{
 "cells": [
  {
   "cell_type": "code",
   "execution_count": 1,
   "id": "9bf82082-8e5a-488a-9719-02f6b0db57e4",
   "metadata": {},
   "outputs": [],
   "source": [
    "import math\n"
   ]
  },
  {
   "cell_type": "code",
   "execution_count": 2,
   "id": "25329076-6cb6-4315-a836-bea120b46c85",
   "metadata": {},
   "outputs": [],
   "source": [
    "def mesafe_hesapla(x1, y1, x2, y2):\n",
    "    return math.sqrt((x2 - x1)**2 + (y2 - y1)**2)"
   ]
  },
  {
   "cell_type": "code",
   "execution_count": 3,
   "id": "93b29ed2-065e-4348-b0c7-36677daa05dc",
   "metadata": {},
   "outputs": [],
   "source": [
    "def euclideanDistance(points):\n",
    "    distances = []\n",
    "    for i in range(len(points)):\n",
    "        for j in range(i+1, len(points)):\n",
    "            x1, y1 = points[i]\n",
    "            x2, y2 = points[j]\n",
    "            mesafe = mesafe_hesapla(x1, y1, x2, y2)\n",
    "            distances.append(mesafe)\n",
    "            return distances"
   ]
  },
  {
   "cell_type": "code",
   "execution_count": 4,
   "id": "13449409-2553-4cfb-84c9-6e3e31450a2d",
   "metadata": {},
   "outputs": [
    {
     "name": "stdout",
     "output_type": "stream",
     "text": [
      "İki Nokta Arası Uzaklık : [1.4142135623730951]\n"
     ]
    }
   ],
   "source": [
    "points = [(0,0), (1,1), (2,3), (4,5)]\n",
    "distances = euclideanDistance(points)\n",
    "print(\"İki Nokta Arası Uzaklık :\", distances)"
   ]
  },
  {
   "cell_type": "code",
   "execution_count": null,
   "id": "ad2074f8-05dc-479d-9e04-e23689c4d1c2",
   "metadata": {},
   "outputs": [],
   "source": []
  }
 ],
 "metadata": {
  "kernelspec": {
   "display_name": "Python 3 (ipykernel)",
   "language": "python",
   "name": "python3"
  },
  "language_info": {
   "codemirror_mode": {
    "name": "ipython",
    "version": 3
   },
   "file_extension": ".py",
   "mimetype": "text/x-python",
   "name": "python",
   "nbconvert_exporter": "python",
   "pygments_lexer": "ipython3",
   "version": "3.12.3"
  }
 },
 "nbformat": 4,
 "nbformat_minor": 5
}
